{
 "cells": [
  {
   "cell_type": "code",
   "execution_count": 19,
   "id": "387fbc50",
   "metadata": {},
   "outputs": [
    {
     "name": "stdout",
     "output_type": "stream",
     "text": [
      "optimal tour: [0, 1, 2, 3, 4, 0]\n"
     ]
    }
   ],
   "source": [
    "\n",
    "\n",
    "import math\n",
    "def distance(point1,point2):\n",
    "    return math.sqrt((point1[0]-point2[0])**2+ (point1[1]-point2[1])**2)\n",
    "\n",
    "\n",
    "\n",
    "\n",
    "def nearest_neighbor(points):\n",
    "    n=len(points)\n",
    "    unvisited=set(range(n))\n",
    "    tour=[0]\n",
    "    unvisited.remove(0)\n",
    "    \n",
    "    while unvisited:\n",
    "        current_point=tour[-1]\n",
    "        nearest_point=min(unvisited,key=lambda x:distance(points[current_point],points[x]))\n",
    "        tour.append(nearest_point)\n",
    "        unvisited.remove(nearest_point)\n",
    "    \n",
    "    tour.append(tour[0])\n",
    "    return tour\n",
    "if __name__==\"__main__\":\n",
    "        points=[(0,0),(1,2),(2,3),(3,4),(4,2)]\n",
    "        tour=nearest_neighbor(points)\n",
    "        print(\"optimal tour:\",tour)"
   ]
  },
  {
   "cell_type": "code",
   "execution_count": null,
   "id": "d34f4e51",
   "metadata": {},
   "outputs": [],
   "source": []
  }
 ],
 "metadata": {
  "kernelspec": {
   "display_name": "Python 3 (ipykernel)",
   "language": "python",
   "name": "python3"
  },
  "language_info": {
   "codemirror_mode": {
    "name": "ipython",
    "version": 3
   },
   "file_extension": ".py",
   "mimetype": "text/x-python",
   "name": "python",
   "nbconvert_exporter": "python",
   "pygments_lexer": "ipython3",
   "version": "3.9.18"
  }
 },
 "nbformat": 4,
 "nbformat_minor": 5
}
