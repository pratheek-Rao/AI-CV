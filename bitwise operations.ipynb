{
 "cells": [
  {
   "cell_type": "code",
   "execution_count": null,
   "id": "c563e4e5",
   "metadata": {},
   "outputs": [],
   "source": [
    "import cv2\n",
    "\n",
    "\n",
    "import cv2 \n",
    "import numpy as np \n",
    "\t\n",
    "\n",
    "img1 = cv2.imread('/home/student/Desktop/1bit1.png') \n",
    "img2 = cv2.imread('/home/student/Desktop/2bit2.png') \n",
    "\n",
    "\n",
    "dest_and = cv2.bitwise_and(img2, img1, mask = None) \n",
    "\n",
    "\n",
    "cv2.imshow('Bitwise And', dest_and) \n",
    "\n",
    "\n",
    "if cv2.waitKey(0) & 0xff == 27: \n",
    "\tcv2.destroyAllWindows() \n"
   ]
  },
  {
   "cell_type": "code",
   "execution_count": null,
   "id": "63ff6142",
   "metadata": {},
   "outputs": [],
   "source": [
    "dest_or = cv2.bitwise_or(img2, img1, mask = None) \n",
    "  \n",
    "\n",
    "cv2.imshow('Bitwise OR', dest_or) "
   ]
  },
  {
   "cell_type": "code",
   "execution_count": null,
   "id": "302c155e",
   "metadata": {},
   "outputs": [],
   "source": [
    "dest_xor = cv2.bitwise_xor(img1, img2, mask = None) \n",
    "  \n",
    "\n",
    "cv2.imshow('Bitwise XOR', dest_xor) "
   ]
  },
  {
   "cell_type": "code",
   "execution_count": null,
   "id": "74ff8f96",
   "metadata": {},
   "outputs": [],
   "source": []
  }
 ],
 "metadata": {
  "kernelspec": {
   "display_name": "Python 3 (ipykernel)",
   "language": "python",
   "name": "python3"
  },
  "language_info": {
   "codemirror_mode": {
    "name": "ipython",
    "version": 3
   },
   "file_extension": ".py",
   "mimetype": "text/x-python",
   "name": "python",
   "nbconvert_exporter": "python",
   "pygments_lexer": "ipython3",
   "version": "3.9.18"
  }
 },
 "nbformat": 4,
 "nbformat_minor": 5
}
